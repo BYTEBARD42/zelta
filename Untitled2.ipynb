{
 "cells": [
  {
   "cell_type": "code",
   "execution_count": 20,
   "id": "c6978196-fb89-4361-9f01-97dcf69ecb64",
   "metadata": {},
   "outputs": [],
   "source": [
    "# Load input CSV\n",
    "input_file = \"./content/BTC_2019_2023_1d.csv\""
   ]
  },
  {
   "cell_type": "code",
   "execution_count": null,
   "id": "d4c8bf04-4364-4305-8dd6-a9bbfa45d2ff",
   "metadata": {},
   "outputs": [],
   "source": [
    "import pandas as pd\n",
    "\n",
    "# Load data\n",
    "data = pd.read_csv(input_file, parse_dates=['datetime'])\n",
    "\n",
    "# Calculate SMAs\n",
    "data['SMA1'] = data['close'].rolling(window=4).mean()\n",
    "data['SMA2'] = data['close'].rolling(window=16).mean()\n",
    "data['SMA3'] = data['close'].rolling(window=32).mean()\n",
    "data['SMA200'] = data['close'].rolling(window=200).mean()\n",
    "\n",
    "# Calculate volume condition\n",
    "data['avg_volume'] = data['volume'].rolling(window=40).mean()\n",
    "data['volume_condition'] = data['volume'] > 2.5 * data['avg_volume']\n",
    "\n",
    "# Initialize signals and trade_type columns\n",
    "data['signals'] = 0\n",
    "data['trade_type'] = ''\n",
    "\n",
    "# Generate signals\n",
    "for i in range(200, len(data)):\n",
    "    if data['SMA1'][i] > data['SMA2'][i] > data['SMA3'][i] and data['close'][i] > data['SMA200'][i] and data['volume_condition'][i]:\n",
    "        if data['signals'][i-1] <= 0:\n",
    "            data.at[i, 'signals'] = 1 if data['signals'][i-1] == 0 else 2\n",
    "            data.at[i, 'trade_type'] = 'long'\n",
    "    elif data['SMA1'][i] < data['SMA2'][i] < data['SMA3'][i] and data['close'][i] < data['SMA200'][i] and data['volume_condition'][i]:\n",
    "        if data['signals'][i-1] >= 0:\n",
    "            data.at[i, 'signals'] = -1 if data['signals'][i-1] == 0 else -2\n",
    "            data.at[i, 'trade_type'] = 'short'\n",
    "    elif data['SMA1'][i] < data['SMA2'][i] < data['SMA3'][i] and data['close'][i] > data['SMA200'][i]:\n",
    "        if data['signals'][i-1] > 0:\n",
    "            data.at[i, 'signals'] = -1\n",
    "            data.at[i, 'trade_type'] = 'close'\n",
    "    elif data['SMA1'][i] > data['SMA2'][i] > data['SMA3'][i] and data['close'][i] < data['SMA200'][i]:\n",
    "        if data['signals'][i-1] < 0:\n",
    "            data.at[i, 'signals'] = 1\n",
    "            data.at[i, 'trade_type'] = 'close'\n",
    "\n",
    "# Filter relevant columns\n",
    "output_data = data[['datetime', 'high', 'open', 'close', 'low', 'volume', 'signals', 'trade_type']]\n",
    "\n",
    "# Save to CSV\n",
    "output_data.to_csv('output1d.csv', index=False)"
   ]
  }
 ],
 "metadata": {
  "kernelspec": {
   "display_name": "Python [conda env:base] *",
   "language": "python",
   "name": "conda-base-py"
  },
  "language_info": {
   "codemirror_mode": {
    "name": "ipython",
    "version": 3
   },
   "file_extension": ".py",
   "mimetype": "text/x-python",
   "name": "python",
   "nbconvert_exporter": "python",
   "pygments_lexer": "ipython3",
   "version": "3.12.7"
  }
 },
 "nbformat": 4,
 "nbformat_minor": 5
}
