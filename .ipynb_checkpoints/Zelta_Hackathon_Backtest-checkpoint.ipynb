{
 "cells": [
  {
   "cell_type": "code",
   "execution_count": 11,
   "metadata": {
    "id": "Pcf2V0IX62VF"
   },
   "outputs": [],
   "source": [
    "csv_file_path = \"Desktop/zelta/try1.csv\""
   ]
  },
  {
   "cell_type": "code",
   "execution_count": 12,
   "metadata": {
    "id": "w1jK2VHp38dW"
   },
   "outputs": [
    {
     "name": "stderr",
     "output_type": "stream",
     "text": [
      "fatal: destination path 'untrade-sdk' already exists and is not an empty directory.\n"
     ]
    },
    {
     "name": "stdout",
     "output_type": "stream",
     "text": [
      "Processing c:\\users\\haris\\desktop\\zelta\\untrade-sdk\n",
      "  Installing build dependencies: started\n",
      "  Installing build dependencies: finished with status 'done'\n",
      "  Getting requirements to build wheel: started\n",
      "  Getting requirements to build wheel: finished with status 'done'\n",
      "  Preparing metadata (pyproject.toml): started\n",
      "  Preparing metadata (pyproject.toml): finished with status 'done'\n",
      "Building wheels for collected packages: untrade\n",
      "  Building wheel for untrade (pyproject.toml): started\n",
      "  Building wheel for untrade (pyproject.toml): finished with status 'done'\n",
      "  Created wheel for untrade: filename=untrade-0.1.0-py3-none-any.whl size=5100 sha256=0a784c9993bca0ac451fd772781cbddeefed2f12d4d0a941edecc7aa6c166c83\n",
      "  Stored in directory: c:\\users\\haris\\appdata\\local\\pip\\cache\\wheels\\0c\\d6\\bc\\ca59932606376648b7a1f7cc02d1e8d67f1c16576d13bb06bb\n",
      "Successfully built untrade\n",
      "Installing collected packages: untrade\n",
      "  Attempting uninstall: untrade\n",
      "    Found existing installation: untrade 0.1.0\n",
      "    Uninstalling untrade-0.1.0:\n",
      "      Successfully uninstalled untrade-0.1.0\n",
      "Successfully installed untrade-0.1.0\n"
     ]
    },
    {
     "name": "stderr",
     "output_type": "stream",
     "text": [
      "\n",
      "[notice] A new release of pip is available: 24.2 -> 24.3.1\n",
      "[notice] To update, run: python.exe -m pip install --upgrade pip\n"
     ]
    }
   ],
   "source": [
    "!git clone https://github.com/ztuntrade/untrade-sdk.git\n",
    "!pip install ./untrade-sdk/.\n",
    "\n",
    "import uuid\n",
    "import os\n",
    "from untrade.client import Client"
   ]
  },
  {
   "cell_type": "code",
   "execution_count": 13,
   "metadata": {
    "id": "4Juy2DEZ45kV"
   },
   "outputs": [],
   "source": [
    "def perform_backtest(csv_file_path):\n",
    "     client = Client()\n",
    "     result = client.backtest(\n",
    "         jupyter_id=\"test\",\n",
    "         file_path=csv_file_path,\n",
    "         leverage=1,\n",
    "     )\n",
    "     return result\n",
    "\n",
    "\n",
    "def perform_backtest_large_csv(csv_file_path):\n",
    "    client = Client()\n",
    "    file_id = str(uuid.uuid4())\n",
    "    chunk_size = 90 * 1024 * 1024  # 90 MB\n",
    "    total_size = os.path.getsize(csv_file_path)\n",
    "    total_chunks = (total_size + chunk_size - 1) // chunk_size\n",
    "    chunk_number = 0\n",
    "\n",
    "    # Handle small files\n",
    "    if total_size <= chunk_size:\n",
    "        total_chunks = 1\n",
    "        result = client.backtest(\n",
    "            file_path=csv_file_path,\n",
    "            leverage=1,\n",
    "            jupyter_id=\"test\",\n",
    "        )\n",
    "        for value in result:\n",
    "            print(value)\n",
    "        return result\n",
    "\n",
    "    # Process large files in chunks\n",
    "    with open(csv_file_path, \"rb\") as f:\n",
    "        while True:\n",
    "            chunk_data = f.read(chunk_size)\n",
    "            if not chunk_data:\n",
    "                break\n",
    "\n",
    "            # Save each chunk temporarily in /tmp\n",
    "            chunk_file_path = f\"/tmp/{file_id}_chunk{chunk_number}.csv\"\n",
    "            with open(chunk_file_path, \"wb\") as chunk_file:\n",
    "                chunk_file.write(chunk_data)\n",
    "\n",
    "            # Perform backtest on the current chunk\n",
    "            result = client.backtest(\n",
    "                file_path=chunk_file_path,\n",
    "                leverage=1,\n",
    "                jupyter_id=\"test\",\n",
    "                file_id=file_id,\n",
    "                chunk_number=chunk_number,\n",
    "                total_chunks=total_chunks,\n",
    "            )\n",
    "\n",
    "            # Process the results of the backtest\n",
    "            for value in result:\n",
    "                print(value)\n",
    "\n",
    "            # Remove the temporary chunk file\n",
    "            os.remove(chunk_file_path)\n",
    "\n",
    "            # Move to the next chunk\n",
    "            chunk_number += 1\n",
    "\n",
    "    return result"
   ]
  },
  {
   "cell_type": "code",
   "execution_count": 14,
   "metadata": {
    "id": "zztBlRjJ607M"
   },
   "outputs": [
    {
     "name": "stdout",
     "output_type": "stream",
     "text": [
      "None\n"
     ]
    },
    {
     "ename": "TypeError",
     "evalue": "'NoneType' object is not iterable",
     "output_type": "error",
     "traceback": [
      "\u001b[1;31m---------------------------------------------------------------------------\u001b[0m",
      "\u001b[1;31mTypeError\u001b[0m                                 Traceback (most recent call last)",
      "Cell \u001b[1;32mIn[14], line 4\u001b[0m\n\u001b[0;32m      2\u001b[0m backtest_result \u001b[38;5;241m=\u001b[39m perform_backtest(csv_file_path)\n\u001b[0;32m      3\u001b[0m \u001b[38;5;28mprint\u001b[39m(backtest_result)\n\u001b[1;32m----> 4\u001b[0m \u001b[38;5;28;01mfor\u001b[39;00m value \u001b[38;5;129;01min\u001b[39;00m backtest_result:\n\u001b[0;32m      5\u001b[0m     \u001b[38;5;28mprint\u001b[39m(value)\n",
      "\u001b[1;31mTypeError\u001b[0m: 'NoneType' object is not iterable"
     ]
    }
   ],
   "source": [
    "#change to perform_backtest_large_csv(csv_file_path) for large files\n",
    "backtest_result = perform_backtest(csv_file_path)\n",
    "print(backtest_result)\n",
    "for value in backtest_result:\n",
    "    print(value)"
   ]
  },
  {
   "cell_type": "code",
   "execution_count": null,
   "metadata": {
    "id": "7BPpNAHS7ISN"
   },
   "outputs": [],
   "source": []
  }
 ],
 "metadata": {
  "colab": {
   "provenance": []
  },
  "kernelspec": {
   "display_name": "Python [conda env:base] *",
   "language": "python",
   "name": "conda-base-py"
  },
  "language_info": {
   "codemirror_mode": {
    "name": "ipython",
    "version": 3
   },
   "file_extension": ".py",
   "mimetype": "text/x-python",
   "name": "python",
   "nbconvert_exporter": "python",
   "pygments_lexer": "ipython3",
   "version": "3.12.7"
  }
 },
 "nbformat": 4,
 "nbformat_minor": 4
}
