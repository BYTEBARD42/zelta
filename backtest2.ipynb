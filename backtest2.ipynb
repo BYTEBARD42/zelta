{
 "cells": [
  {
   "cell_type": "code",
   "execution_count": 21,
   "id": "6d36163d-e50e-4360-b1c5-170ad06ff151",
   "metadata": {},
   "outputs": [],
   "source": [
    "import numpy as np\n",
    "import pandas as pd"
   ]
  },
  {
   "cell_type": "code",
   "execution_count": 22,
   "id": "4ed0908c-574b-4714-abdb-f68ddd8c9fee",
   "metadata": {},
   "outputs": [
    {
     "name": "stdout",
     "output_type": "stream",
     "text": [
      "   Unnamed: 0             datetime      open      high       low     close  \\\n",
      "0           0  2019-09-08 16:00:00  10000.00  10000.00  10000.00  10000.00   \n",
      "1           1  2019-09-08 18:00:00  10344.77  10357.53  10337.43  10340.12   \n",
      "2           2  2019-09-08 20:00:00  10340.12  10391.90  10324.77  10391.90   \n",
      "3           3  2019-09-08 22:00:00  10392.59  10412.65  10366.57  10391.63   \n",
      "4           4  2019-09-09 00:00:00  10391.63  10391.63  10391.63  10391.63   \n",
      "\n",
      "     volume  signals  trade_type  \n",
      "0     0.002        0         NaN  \n",
      "1   471.659        0         NaN  \n",
      "2  1273.030        0         NaN  \n",
      "3  1351.600        0         NaN  \n",
      "4     0.000        0         NaN  \n"
     ]
    }
   ],
   "source": [
    "# Load the CSV file into a DataFrame\n",
    "csv_file_path = './content/BTC_2019_2023_2h.csv'  # Replace with your CSV file path\n",
    "df = pd.read_csv(csv_file_path)\n",
    "\n",
    "# Add the 'signals' column with all entries set to 0\n",
    "df['signals'] = 0\n",
    "\n",
    "# Add the 'trade_type' column with all entries set to NaN\n",
    "df['trade_type'] = np.nan\n",
    "\n",
    "# Save the updated DataFrame back to the CSV file (optional)\n",
    "df.to_csv(csv_file_path, index=False)\n",
    "\n",
    "# Display the first few rows to verify\n",
    "print(df.head())\n"
   ]
  },
  {
   "cell_type": "code",
   "execution_count": 23,
   "id": "65b7a8e6-9c9e-48cd-9d33-a09265f8f27b",
   "metadata": {},
   "outputs": [
    {
     "name": "stdout",
     "output_type": "stream",
     "text": [
      "       Unnamed: 0             datetime      open      high       low  \\\n",
      "0               0  2019-09-08 16:00:00  10000.00  10000.00  10000.00   \n",
      "1               1  2019-09-08 18:00:00  10344.77  10357.53  10337.43   \n",
      "2               2  2019-09-08 20:00:00  10340.12  10391.90  10324.77   \n",
      "3               3  2019-09-08 22:00:00  10392.59  10412.65  10366.57   \n",
      "4               4  2019-09-09 00:00:00  10391.63  10391.63  10391.63   \n",
      "...           ...                  ...       ...       ...       ...   \n",
      "18900       18900  2023-12-31 16:00:00  42489.60  42741.60  42465.40   \n",
      "18901       18901  2023-12-31 18:00:00  42651.90  42766.70  42570.10   \n",
      "18902       18902  2023-12-31 20:00:00  42659.90  42724.50  42543.30   \n",
      "18903       18903  2023-12-31 22:00:00  42559.00  42629.50  42083.10   \n",
      "18904       18904  2024-01-01 00:00:00  42314.00  42832.00  42289.60   \n",
      "\n",
      "          close     volume  signals trade_type        ema_20        ema_40  \n",
      "0      10000.00      0.002        0       hold  10000.000000  10000.000000  \n",
      "1      10340.12    471.659        1       long  10032.392381  10016.591220  \n",
      "2      10391.90   1273.030        0       hold  10066.631202  10034.898965  \n",
      "3      10391.63   1351.600        0       hold  10097.583468  10052.300479  \n",
      "4      10391.63      0.000        0       hold  10125.587900  10068.853138  \n",
      "...         ...        ...      ...        ...           ...           ...  \n",
      "18900  42651.90  12901.812        0       hold  42413.469732  42471.316176  \n",
      "18901  42659.90   8594.272        0       hold  42436.939281  42480.515387  \n",
      "18902  42558.90   8524.946        0       hold  42448.554588  42484.339027  \n",
      "18903  42314.00  23628.811        0       hold  42435.739865  42476.029806  \n",
      "18904  42647.90  17502.888        0       hold  42455.945592  42484.413718  \n",
      "\n",
      "[18905 rows x 11 columns]\n"
     ]
    }
   ],
   "source": [
    "\n",
    "# Calculate EMAs\n",
    "df['ema_20'] = df['close'].ewm(span=20, adjust=False).mean()\n",
    "df['ema_40'] = df['close'].ewm(span=40, adjust=False).mean()\n",
    "\n",
    "# Generate signals\n",
    "def generate_signals(df):\n",
    "    signals = []\n",
    "    for i in range(len(df)):\n",
    "        if i == 0:\n",
    "            signals.append(0)\n",
    "        elif df['ema_20'][i] > df['ema_40'][i] and df['ema_20'][i-1] <= df['ema_40'][i-1]:\n",
    "            signals.append(1)\n",
    "        elif df['ema_20'][i] < df['ema_40'][i] and df['ema_20'][i-1] >= df['ema_40'][i-1]:\n",
    "            signals.append(-1)\n",
    "        else:\n",
    "            signals.append(0)\n",
    "    return signals\n",
    "\n",
    "df['signals'] = generate_signals(df)\n",
    "\n",
    "# Determine trade types based on signals\n",
    "def determine_trade_type(row):\n",
    "    if row['signals'] == 1 and (pd.isna(row['trade_type']) or row['trade_type'] == 'close'):\n",
    "        return 'long'\n",
    "    elif row['signals'] == -1 and (pd.isna(row['trade_type']) or row['trade_type'] == 'close'):\n",
    "        return 'short'\n",
    "    elif row['signals'] == -1 and row['trade_type'] == 'long':\n",
    "        return 'close'\n",
    "    elif row['signals'] == 1 and row['trade_type'] == 'short':\n",
    "        return 'close'\n",
    "    elif row['signals'] == -2:\n",
    "        return 'short'\n",
    "    elif row['signals'] == 2:\n",
    "        return 'long'\n",
    "    else:\n",
    "        return row['trade_type']\n",
    "\n",
    "df['trade_type'] = df.apply(determine_trade_type, axis=1)\n",
    "\n",
    "# Replace NaN values in trade_type\n",
    "df['trade_type'] = df['trade_type'].fillna('hold')\n",
    "\n",
    "\n",
    "# Display the DataFrame with trade types\n",
    "print(df)\n"
   ]
  },
  {
   "cell_type": "code",
   "execution_count": 24,
   "id": "3d197603-6433-469c-bb98-90bba624f620",
   "metadata": {},
   "outputs": [],
   "source": [
    "df.to_csv ('try2.csv', index=False)"
   ]
  }
 ],
 "metadata": {
  "kernelspec": {
   "display_name": "Python [conda env:base] *",
   "language": "python",
   "name": "conda-base-py"
  },
  "language_info": {
   "codemirror_mode": {
    "name": "ipython",
    "version": 3
   },
   "file_extension": ".py",
   "mimetype": "text/x-python",
   "name": "python",
   "nbconvert_exporter": "python",
   "pygments_lexer": "ipython3",
   "version": "3.12.7"
  }
 },
 "nbformat": 4,
 "nbformat_minor": 5
}
