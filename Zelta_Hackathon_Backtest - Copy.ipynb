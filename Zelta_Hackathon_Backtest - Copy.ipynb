{
 "cells": [
  {
   "cell_type": "code",
   "execution_count": 36,
   "metadata": {
    "id": "Pcf2V0IX62VF"
   },
   "outputs": [],
   "source": [
    "csv_file_path = \"./content/try2.csv\""
   ]
  },
  {
   "cell_type": "code",
   "execution_count": 37,
   "metadata": {
    "id": "w1jK2VHp38dW"
   },
   "outputs": [
    {
     "name": "stderr",
     "output_type": "stream",
     "text": [
      "fatal: destination path 'untrade-sdk' already exists and is not an empty directory.\n"
     ]
    },
    {
     "name": "stdout",
     "output_type": "stream",
     "text": [
      "Processing c:\\users\\haris\\desktop\\zelta\\untrade-sdk\n",
      "  Installing build dependencies: started\n",
      "  Installing build dependencies: finished with status 'done'\n",
      "  Getting requirements to build wheel: started\n",
      "  Getting requirements to build wheel: finished with status 'done'\n",
      "  Preparing metadata (pyproject.toml): started\n",
      "  Preparing metadata (pyproject.toml): finished with status 'done'\n",
      "Building wheels for collected packages: untrade\n",
      "  Building wheel for untrade (pyproject.toml): started\n",
      "  Building wheel for untrade (pyproject.toml): finished with status 'done'\n",
      "  Created wheel for untrade: filename=untrade-0.1.0-py3-none-any.whl size=5100 sha256=0a784c9993bca0ac451fd772781cbddeefed2f12d4d0a941edecc7aa6c166c83\n",
      "  Stored in directory: c:\\users\\haris\\appdata\\local\\pip\\cache\\wheels\\0c\\d6\\bc\\ca59932606376648b7a1f7cc02d1e8d67f1c16576d13bb06bb\n",
      "Successfully built untrade\n",
      "Installing collected packages: untrade\n",
      "  Attempting uninstall: untrade\n",
      "    Found existing installation: untrade 0.1.0\n",
      "    Uninstalling untrade-0.1.0:\n",
      "      Successfully uninstalled untrade-0.1.0\n",
      "Successfully installed untrade-0.1.0\n"
     ]
    },
    {
     "name": "stderr",
     "output_type": "stream",
     "text": [
      "\n",
      "[notice] A new release of pip is available: 24.2 -> 24.3.1\n",
      "[notice] To update, run: python.exe -m pip install --upgrade pip\n"
     ]
    }
   ],
   "source": [
    "!git clone https://github.com/ztuntrade/untrade-sdk.git\n",
    "!pip install ./untrade-sdk/.\n",
    "\n",
    "import uuid\n",
    "import osA\n",
    "from untrade.client import Client"
   ]
  },
  {
   "cell_type": "code",
   "execution_count": 38,
   "metadata": {
    "id": "4Juy2DEZ45kV"
   },
   "outputs": [],
   "source": [
    "def perform_backtest(csv_file_path):\n",
    "     client = Client()\n",
    "     result = client.backtest(\n",
    "         jupyter_id=\"test\",\n",
    "         file_path=csv_file_path,\n",
    "         leverage=1,\n",
    "     )\n",
    "     return result\n",
    "\n",
    "\n",
    "def perform_backtest_large_csv(csv_file_path):\n",
    "    client = Client()\n",
    "    file_id = str(uuid.uuid4())\n",
    "    chunk_size = 90 * 1024 * 1024  # 90 MB\n",
    "    total_size = os.path.getsize(csv_file_path)\n",
    "    total_chunks = (total_size + chunk_size - 1) // chunk_size\n",
    "    chunk_number = 0\n",
    "\n",
    "    # Handle small files\n",
    "    if total_size <= chunk_size:\n",
    "        total_chunks = 1\n",
    "        result = client.backtest(\n",
    "            file_path=csv_file_path,\n",
    "            leverage=1,\n",
    "            jupyter_id=\"test\",\n",
    "        )\n",
    "        for value in result:\n",
    "            print(value)\n",
    "        return result\n",
    "\n",
    "    # Process large files in chunks\n",
    "    with open(csv_file_path, \"rb\") as f:\n",
    "        while True:\n",
    "            chunk_data = f.read(chunk_size)\n",
    "            if not chunk_data:\n",
    "                break\n",
    "\n",
    "            # Save each chunk temporarily in /tmp\n",
    "            chunk_file_path = f\"/tmp/{file_id}_chunk{chunk_number}.csv\"\n",
    "            with open(chunk_file_path, \"wb\") as chunk_file:\n",
    "                chunk_file.write(chunk_data)\n",
    "\n",
    "            # Perform backtest on the current chunk\n",
    "            result = client.backtest(\n",
    "                file_path=chunk_file_path,\n",
    "                leverage=1,\n",
    "                jupyter_id=\"test\",\n",
    "                file_id=file_id,\n",
    "                chunk_number=chunk_number,\n",
    "                total_chunks=total_chunks,\n",
    "            )\n",
    "\n",
    "            # Process the results of the backtest\n",
    "            for value in result:\n",
    "                print(value)\n",
    "\n",
    "            # Remove the temporary chunk file\n",
    "            os.remove(chunk_file_path)\n",
    "\n",
    "            # Move to the next chunk\n",
    "            chunk_number += 1\n",
    "\n",
    "    return result"
   ]
  },
  {
   "cell_type": "code",
   "execution_count": 39,
   "metadata": {
    "id": "zztBlRjJ607M"
   },
   "outputs": [
    {
     "name": "stdout",
     "output_type": "stream",
     "text": [
      "<generator object Client._handle_response_stream at 0x0000017B9443FED0>\n",
      "data: {\n",
      "  \"jupyter_id\": \"test\",\n",
      "  \"result_type\": \"Main\",\n",
      "  \"message\": \"Backtest completed\",\n",
      "  \"result\": {\n",
      "    \"static_statistics\": {\n",
      "      \"From\": \"2019-09-08 16:00:00\",\n",
      "      \"Total Trades\": 195,\n",
      "      \"Leverage Applied\": 1.0,\n",
      "      \"Winning Trades\": 57,\n",
      "      \"Losing Trades\": 138,\n",
      "      \"No. of Long Trades\": 195,\n",
      "      \"No. of Short Trades\": 0,\n",
      "      \"Benchmark Return(%)\": 326.479,\n",
      "      \"Benchmark Return(on $1000)\": 3264.79,\n",
      "      \"Win Rate\": 29.230769,\n",
      "      \"Winning Streak\": 4,\n",
      "      \"Losing Streak\": 11,\n",
      "      \"Gross Profit\": 2414.409053,\n",
      "      \"Net Profit\": 2121.909053,\n",
      "      \"Average Profit\": 10.881585,\n",
      "      \"Maximum Drawdown(%)\": 28.827975,\n",
      "      \"Average Drawdown(%)\": 10.593758,\n",
      "      \"Largest Win\": 859.493762,\n",
      "      \"Average Win\": 100.921555,\n",
      "      \"Largest Loss\": -92.317762,\n",
      "      \"Average Loss\": -26.308837,\n",
      "      \"Maximum Holding Time\": \"29 days 7:59:59\",\n",
      "      \"Average Holding Time\": \"4 days 4:47:23\",\n",
      "      \"Maximum Adverse Excursion\": 15.413077,\n",
      "      \"Average Adverse Excursion\": 2.895333,\n",
      "      \"Sharpe Ratio\": 2.33636,\n",
      "      \"Sortino Ratio\": 9.088477,\n",
      "      \"To\": \"2024-01-01 00:00:00\"\n",
      "    },\n",
      "    \"compound_statistics\": {\n",
      "      \"flag\": \"Trades Executed: 195\",\n",
      "      \"Initial Balance\": 1000.0,\n",
      "      \"Leverage Applied\": 1.0,\n",
      "      \"Number of Trades\": 195,\n",
      "      \"Profit Percentage\": 281.91749,\n",
      "      \"Maximum Drawdown\": 62.205721,\n",
      "      \"Average Drawdown\": 26.280118,\n",
      "      \"Time to Recovery(TTR)\": \"101.833333 days\",\n",
      "      \"Average TTR\": \"40.287037 days\",\n",
      "      \"Maximum PNL\": 1620.725446,\n",
      "      \"Minimum PNL\": -411.250621,\n",
      "      \"Max Portfolio Balance\": 5014.324731,\n",
      "      \"Minimumm Portfolio Balance\": 874.768254,\n",
      "      \"Final Balance\": 3819.174899,\n",
      "      \"Total Fee\": 766.120028\n",
      "    }\n",
      "  }\n",
      "}\n",
      "\n",
      "\n"
     ]
    }
   ],
   "source": [
    "#change to perform_backtest_large_csv(csv_file_path) for large files\n",
    "backtest_result = perform_backtest(csv_file_path)\n",
    "print(backtest_result)\n",
    "for value in backtest_result:\n",
    "    print(value)"
   ]
  },
  {
   "cell_type": "code",
   "execution_count": null,
   "metadata": {
    "id": "7BPpNAHS7ISN"
   },
   "outputs": [],
   "source": []
  }
 ],
 "metadata": {
  "colab": {
   "provenance": []
  },
  "kernelspec": {
   "display_name": "Python [conda env:base] *",
   "language": "python",
   "name": "conda-base-py"
  },
  "language_info": {
   "codemirror_mode": {
    "name": "ipython",
    "version": 3
   },
   "file_extension": ".py",
   "mimetype": "text/x-python",
   "name": "python",
   "nbconvert_exporter": "python",
   "pygments_lexer": "ipython3",
   "version": "3.12.7"
  }
 },
 "nbformat": 4,
 "nbformat_minor": 4
}
